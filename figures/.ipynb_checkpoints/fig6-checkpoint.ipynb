{
 "cells": [
  {
   "cell_type": "code",
   "execution_count": 1,
   "id": "d88d7d66",
   "metadata": {},
   "outputs": [],
   "source": [
    "import  pyide\n",
    "import importlib\n",
    "importlib.reload(pyide)\n",
    "from scipy.stats import norm\n",
    "import numpy as np\n",
    "import matplotlib.pyplot as plt\n",
    "import matplotlib\n",
    "import matplotlib.pyplot as plt\n",
    "from mpl_toolkits.mplot3d import Axes3D\n",
    "\n",
    "from imp import reload # for debugging\n",
    "import matplotlib.pyplot as plt\n",
    "from mpl_toolkits.mplot3d import Axes3D\n",
    "\n"
   ]
  },
  {
   "cell_type": "code",
   "execution_count": 2,
   "id": "2fa27433",
   "metadata": {},
   "outputs": [],
   "source": [
    "#Direct input \n",
    "plt.rcParams['text.latex.preamble']=r\"\\usepackage{lmodern}\"\n",
    "#Options\n",
    "params = {'text.usetex' : True,\n",
    "          'font.size' : 11,\n",
    "          #'font.family' : 'lmodern',\n",
    "          #'text.latex.unicode': True,\n",
    "          }\n",
    "plt.rcParams.update(params)"
   ]
  },
  {
   "cell_type": "code",
   "execution_count": 3,
   "id": "0f72bb54",
   "metadata": {},
   "outputs": [],
   "source": [
    "alpha=0.2\n",
    "beta=0.8\n",
    "mu=0.3\n",
    "\n",
    "H = lambda x : np.heaviside(x, 1)\n",
    "\n",
    "g = lambda x : H(x-alpha) - (1-mu)*H(x-beta)\n",
    "\n",
    "import matplotlib.pyplot as plt\n",
    "\n",
    "U = np.arange(0, 1, 0.01)\n",
    "k = lambda x: 1/2 * np.exp(-np.abs(x))\n",
    "\n",
    "model = pyide.IDEModel(growthFunction=pyide.GrowthFunction(g),\n",
    "                  dispersalKernel=pyide.DisperalKernel(k))\n",
    "                  \n",
    "                \n",
    "sim = pyide.IDESimulation(model)\n",
    "sim.setDomain(xmin=-10, xmax=10, dx=0.005)"
   ]
  },
  {
   "cell_type": "code",
   "execution_count": 4,
   "id": "38e8853e",
   "metadata": {},
   "outputs": [
    {
     "data": {
      "image/png": "[encoded data removed]",
      "text/plain": [
       "<Figure size 288x216 with 2 Axes>"
      ]
     },
     "metadata": {
      "needs_background": "light"
     },
     "output_type": "display_data"
    }
   ],
   "source": [
    "\n",
    "# this chunk generates and plots heatmap\n",
    "filename = 'fig6a.pdf'\n",
    "fig_size_x=4\n",
    "fig_size_y=3\n",
    "\n",
    "L = []\n",
    "r_values = np.arange(0, 4, 0.01)\n",
    "for r in r_values:\n",
    "    sim.timeSeries = []\n",
    "    sim.setInitialCondition(lambda x : H(x+r)-H(x-r))\n",
    "    sim.setBoundaryCondition('static')\n",
    "    sim.run(3)\n",
    "    L.append(sim.timeSeries[3])\n",
    "\n",
    "fig, ax = plt.subplots()\n",
    "\n",
    "heatmap = ax.imshow(np.array(L), cmap='viridis', interpolation='none', \n",
    "          aspect='auto',extent=[min(sim.domain),max(sim.domain),5,0])\n",
    "fig.colorbar(heatmap, location='left')\n",
    "\n",
    "ax.set_xlabel('$x$')\n",
    "ax.set_ylabel('$r$', labelpad = 20,rotation=0)\n",
    "\n",
    "ax.set_xticks(np.linspace(-10,10,11,endpoint=True))\n",
    "ax.set_yticks(np.linspace(0,4,5,endpoint=True))\n",
    "\n",
    "ax.invert_yaxis()\n",
    "\n",
    "plt.yticks(rotation=0)\n",
    "\n",
    "ax.yaxis.set_label_position(\"right\")\n",
    "ax.yaxis.tick_right()\n",
    "\n",
    "# ax.view_init(elev=10., azim=50)\n",
    "\n",
    "fig.set_size_inches(fig_size_x=4, fig_size_y=3)\n",
    "\n",
    "plt.savefig(filename, \n",
    "            #This is simple recomendation for publication plots\n",
    "            dpi=1000, \n",
    "            # Plot will be occupy a maximum of available space\n",
    "            bbox_inches='tight', \n",
    "            )"
   ]
  },
  {
   "cell_type": "code",
   "execution_count": null,
   "id": "d66d775d",
   "metadata": {},
   "outputs": [],
   "source": [
    "# this chunk generates the 3d plot\n",
    "filename ='fig6b.pdf'\n",
    "\n",
    "X, Y = np.meshgrid(sim.domain, r_values)\n",
    "Z = np.array(L)\n",
    "\n",
    "#matplotlib.rcParams['text.usetex'] = True\n",
    "\n",
    "fig =plt.figure()\n",
    "ax =fig.add_subplot(111,projection='3d')\n",
    "\n",
    "surf = ax.plot_surface(X,Y,Z, rstride=1, cstride=1,\n",
    "                cmap='viridis', edgecolor='none')\n",
    "\n",
    "#fig.colorbar(surf, shrink=0.5, aspect=10, location='left')\n",
    "#fig.colorbar(surf,location='left')\n",
    "ax.set_xlabel('$x$')\n",
    "ax.set_ylabel('$r$')\n",
    "ax.zaxis.set_rotate_label(False)  # disable automatic rotation\n",
    "#ax.set_zlabel('$Q[\\mu](x,r)$', rotation=0, labelpad=20)\n",
    "ax.set_xticks(np.linspace(-10,10,5,endpoint=True))\n",
    "ax.set_yticks(np.linspace(0,4,3))\n",
    "ax.set_zticks([0,alpha,mu,beta])\n",
    "ax.set_zticklabels(['$0$','$a$','$m$','$b$'])\n",
    "#ax.view_init(elev=10., azim=50)\n",
    "#ax.set_title('surface');\n",
    "#plt.savefig('fig6b.pdf')\n",
    "fig.set_size_inches(4,3)\n",
    "plt.savefig(filename, \n",
    "            #This is simple recomendation for publication plots\n",
    "            dpi=1000, \n",
    "            # Plot will be occupy a maximum of available space\n",
    "            bbox_inches='tight', \n",
    "            )"
   ]
  },
  {
   "cell_type": "code",
   "execution_count": null,
   "id": "f7f5f979",
   "metadata": {},
   "outputs": [],
   "source": []
  }
 ],
 "metadata": {
  "kernelspec": {
   "display_name": "Python 3",
   "language": "python",
   "name": "python3"
  },
  "language_info": {
   "codemirror_mode": {
    "name": "ipython",
    "version": 3
   },
   "file_extension": ".py",
   "mimetype": "text/x-python",
   "name": "python",
   "nbconvert_exporter": "python",
   "pygments_lexer": "ipython3",
   "version": "3.8.10"
  }
 },
 "nbformat": 4,
 "nbformat_minor": 5
}
