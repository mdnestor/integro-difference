{
 "cells": [
  {
   "cell_type": "code",
   "execution_count": 19,
   "id": "c2f18fd9",
   "metadata": {},
   "outputs": [],
   "source": [
    "\n",
    "import pyide\n",
    "from scipy.stats import norm\n",
    "import numpy as np\n",
    "import matplotlib.pyplot as plt\n",
    "import matplotlib\n",
    "import os"
   ]
  },
  {
   "cell_type": "code",
   "execution_count": 4,
   "id": "bbf07783",
   "metadata": {},
   "outputs": [],
   "source": [
    "#Direct input \n",
    "plt.rcParams['text.latex.preamble']=r\"\\usepackage{lmodern}\"\n",
    "#Options\n",
    "params = {'text.usetex' : True,\n",
    "          'font.size' : 11,\n",
    "          #'font.family' : 'lmodern',\n",
    "          #'text.latex.unicode': True,\n",
    "          }\n",
    "plt.rcParams.update(params) "
   ]
  },
  {
   "cell_type": "code",
   "execution_count": 20,
   "id": "8c0555ab",
   "metadata": {},
   "outputs": [
    {
     "data": {
      "text/plain": [
       "4"
      ]
     },
     "execution_count": 20,
     "metadata": {},
     "output_type": "execute_result"
    },
    {
     "data": {
      "image/png": "[encoded data removed]",
      "text/plain": [
       "<Figure size 288x216 with 1 Axes>"
      ]
     },
     "metadata": {
      "needs_background": "light"
     },
     "output_type": "display_data"
    }
   ],
   "source": [
    "filename ='fig3' #without extension\n",
    "fig_size_x=4\n",
    "fig_size_y=3\n",
    "\n",
    "\n",
    "from imp import reload # for debugging\n",
    "alpha=0.2\n",
    "beta=0.8\n",
    "mu=0.3\n",
    "\n",
    "H = lambda x : np.heaviside(x, 1)\n",
    "\n",
    "g = lambda x : H(x-alpha) - (1-mu)*H(x-beta)\n",
    "\n",
    "import matplotlib.pyplot as plt\n",
    "\n",
    "U = np.arange(0, 1, 0.01)\n",
    "k = lambda x: 1/2 * np.exp(-np.abs(x))\n",
    "\n",
    "model = pyide.IDEModel(growthFunction=pyide.GrowthFunction(g),\n",
    "                  dispersalKernel=pyide.DisperalKernel(k))\n",
    "                  \n",
    "                \n",
    "sim = pyide.IDESimulation(model)\n",
    "sim.setDomain(xmin=-10, xmax=10, dx=0.01)\n",
    "sim.setInitialCondition(lambda x : H(-x))\n",
    "sim.setBoundaryCondition('static')\n",
    "\n",
    "n = 11\n",
    "sim.run(n)\n",
    "#sim.plot(times=np.arange(1, n), file='fig3.pdf')\n",
    "\n",
    "times = np.arange(1, n)\n",
    "X = sim.domain\n",
    "U_seq = sim.timeSeries\n",
    "T = len(U_seq)\n",
    "\n",
    "fig,axs = plt.subplots()\n",
    "\n",
    "for t in times:\n",
    "    U = U_seq[t]\n",
    "    axs.plot(X, U, color=(t/T,1-t/T,0))\n",
    "    \n",
    "axs.set_xlabel('$x$')\n",
    "axs.set_ylabel('$u_n(x)$', rotation=0, labelpad=20)\n",
    "\n",
    "\n",
    "\n",
    "#import matplotlib.pyplot as plt\n",
    "#import matplotlib as mpl\n",
    "\n",
    "#fig, ax = plt.subplots(figsize=(6, 1))\n",
    "#fig.subplots_adjust(bottom=0.5)\n",
    "\n",
    "cmap = mpl.cm.cool\n",
    "#norm = mpl.colors.Normalize(vmin=5, vmax=10)\n",
    "\n",
    "#cb1 = matplotlib.colorbar.ColorbarBase(axs, cmap=matplotlib.cm.cool)\n",
    "                                #norm=norm,\n",
    "                                #orientation='horizontal')\n",
    "#cb1.set_label('Some Units')\n",
    "#fig.show()\n",
    "\n",
    "\n",
    "fig.set_size_inches(fig_size_x,fig_size_y)\n",
    "dpi = 1000\n",
    "plt.savefig(filename+'.pdf', \n",
    "            #This is simple recomendation for publication plots\n",
    "            dpi=dpi, \n",
    "            # Plot will be occupy a maximum of available space\n",
    "            bbox_inches='tight', \n",
    "            )\n",
    "\n",
    "n = dpi * fig_size_x\n",
    "os.system('convert -resize '+str(n)+' '+filename+'.pdf '+filename+'.png')"
   ]
  },
  {
   "cell_type": "code",
   "execution_count": null,
   "id": "80cb2908",
   "metadata": {},
   "outputs": [],
   "source": []
  }
 ],
 "metadata": {
  "kernelspec": {
   "display_name": "Python 3",
   "language": "python",
   "name": "python3"
  },
  "language_info": {
   "codemirror_mode": {
    "name": "ipython",
    "version": 3
   },
   "file_extension": ".py",
   "mimetype": "text/x-python",
   "name": "python",
   "nbconvert_exporter": "python",
   "pygments_lexer": "ipython3",
   "version": "3.8.10"
  }
 },
 "nbformat": 4,
 "nbformat_minor": 5
}
